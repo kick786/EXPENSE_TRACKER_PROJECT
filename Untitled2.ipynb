{
 "cells": [
  {
   "cell_type": "code",
   "execution_count": 1,
   "id": "be902607",
   "metadata": {},
   "outputs": [
    {
     "name": "stdout",
     "output_type": "stream",
     "text": [
      "Amount: $50, Category: Food, Description: Lunch\n",
      "Amount: $30, Category: Transportation, Description: Bus fare\n",
      "Amount: $20, Category: Food, Description: Dinner\n",
      "Total expenses: 100\n",
      "Food expenses:\n",
      "Amount: $50, Description: Lunch\n",
      "Amount: $20, Description: Dinner\n"
     ]
    }
   ],
   "source": [
    "class ExpenseTracker:\n",
    "    def __init__(self):\n",
    "        self.expenses = []\n",
    "\n",
    "    def add_expense(self, amount, category, description):\n",
    "        expense = {'amount': amount, 'category': category, 'description': description}\n",
    "        self.expenses.append(expense)\n",
    "\n",
    "    def get_total_expenses(self):\n",
    "        total = 0\n",
    "        for expense in self.expenses:\n",
    "            total += expense['amount']\n",
    "        return total\n",
    "\n",
    "    def get_expenses_by_category(self, category):\n",
    "        expenses_by_category = []\n",
    "        for expense in self.expenses:\n",
    "            if expense['category'] == category:\n",
    "                expenses_by_category.append(expense)\n",
    "        return expenses_by_category\n",
    "\n",
    "    def print_expenses(self):\n",
    "        for expense in self.expenses:\n",
    "            print(f\"Amount: ${expense['amount']}, Category: {expense['category']}, Description: {expense['description']}\")\n",
    "\n",
    "# Create an instance of the ExpenseTracker\n",
    "tracker = ExpenseTracker()\n",
    "\n",
    "# Add expenses\n",
    "tracker.add_expense(50, 'Food', 'Lunch')\n",
    "tracker.add_expense(30, 'Transportation', 'Bus fare')\n",
    "tracker.add_expense(20, 'Food', 'Dinner')\n",
    "\n",
    "# Print all expenses\n",
    "tracker.print_expenses()\n",
    "\n",
    "# Get total expenses\n",
    "total_expenses = tracker.get_total_expenses()\n",
    "print(\"Total expenses:\", total_expenses)\n",
    "\n",
    "# Get expenses by category\n",
    "food_expenses = tracker.get_expenses_by_category('Food')\n",
    "print(\"Food expenses:\")\n",
    "for expense in food_expenses:\n",
    "    print(f\"Amount: ${expense['amount']}, Description: {expense['description']}\")\n"
   ]
  },
  {
   "cell_type": "code",
   "execution_count": null,
   "id": "3f82442b",
   "metadata": {},
   "outputs": [],
   "source": []
  }
 ],
 "metadata": {
  "kernelspec": {
   "display_name": "Python 3 (ipykernel)",
   "language": "python",
   "name": "python3"
  },
  "language_info": {
   "codemirror_mode": {
    "name": "ipython",
    "version": 3
   },
   "file_extension": ".py",
   "mimetype": "text/x-python",
   "name": "python",
   "nbconvert_exporter": "python",
   "pygments_lexer": "ipython3",
   "version": "3.9.12"
  }
 },
 "nbformat": 4,
 "nbformat_minor": 5
}
